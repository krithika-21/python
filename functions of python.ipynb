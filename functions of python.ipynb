{
 "cells": [
  {
   "cell_type": "code",
   "execution_count": 1,
   "metadata": {},
   "outputs": [
    {
     "name": "stdout",
     "output_type": "stream",
     "text": [
      "3 is a positive number.\n",
      "This is always printed.\n"
     ]
    }
   ],
   "source": [
    "num = 3\n",
    "if num > 0:\n",
    "    print(num, \"is a positive number.\")\n",
    "print(\"This is always printed.\")"
   ]
  },
  {
   "cell_type": "code",
   "execution_count": 2,
   "metadata": {},
   "outputs": [
    {
     "name": "stdout",
     "output_type": "stream",
     "text": [
      "This is also always printed.\n"
     ]
    }
   ],
   "source": [
    "num = -1\n",
    "if num > 0:\n",
    "    print(num, \"is a positive number.\")\n",
    "print(\"This is also always printed.\")"
   ]
  },
  {
   "cell_type": "code",
   "execution_count": 3,
   "metadata": {},
   "outputs": [
    {
     "name": "stdout",
     "output_type": "stream",
     "text": [
      "Negative number\n"
     ]
    }
   ],
   "source": [
    "if num >= 0:\n",
    "    print(\"Positive or Zero\")\n",
    "else:\n",
    "    print(\"Negative number\")"
   ]
  },
  {
   "cell_type": "code",
   "execution_count": 4,
   "metadata": {},
   "outputs": [
    {
     "name": "stdout",
     "output_type": "stream",
     "text": [
      "Negative number\n"
     ]
    }
   ],
   "source": [
    "if num > 0:\n",
    "    print(\"Positive number\")\n",
    "elif num == 0:\n",
    "    print(\"Zero\")\n",
    "else:\n",
    "    print(\"Negative number\")"
   ]
  },
  {
   "cell_type": "code",
   "execution_count": 5,
   "metadata": {},
   "outputs": [
    {
     "name": "stdout",
     "output_type": "stream",
     "text": [
      "price*quantity is less than 500\n",
      "price =  50\n",
      "quantity =  5\n"
     ]
    }
   ],
   "source": [
    "price = 50\n",
    "quantity = 5\n",
    "if price*quantity < 500:\n",
    "    print(\"price*quantity is less than 500\")\n",
    "    print(\"price = \", price)\n",
    "    print(\"quantity = \", quantity)"
   ]
  },
  {
   "cell_type": "code",
   "execution_count": 6,
   "metadata": {},
   "outputs": [
    {
     "name": "stdout",
     "output_type": "stream",
     "text": [
      "price is less than 100\n"
     ]
    }
   ],
   "source": [
    "price = 50\n",
    "\n",
    "if price < 100:\n",
    "    print(\"price is less than 100\")"
   ]
  },
  {
   "cell_type": "code",
   "execution_count": 7,
   "metadata": {},
   "outputs": [
    {
     "name": "stdout",
     "output_type": "stream",
     "text": [
      "No if block executed.\n"
     ]
    }
   ],
   "source": [
    "price = 50\n",
    "quantity = 5\n",
    "if price*quantity < 100:\n",
    "    print(\"price is less than 500\")\n",
    "    print(\"price = \", price)\n",
    "    print(\"quantity = \", quantity)\n",
    "print(\"No if block executed.\")"
   ]
  },
  {
   "cell_type": "code",
   "execution_count": 8,
   "metadata": {},
   "outputs": [
    {
     "name": "stdout",
     "output_type": "stream",
     "text": [
      "price is 100\n"
     ]
    }
   ],
   "source": [
    "price = 100\n",
    "\n",
    "if price > 100:\n",
    " print(\"price is greater than 100\")\n",
    "\n",
    "if price == 100:\n",
    "  print(\"price is 100\")\n",
    "\n",
    "if price < 100:\n",
    "    print(\"price is less than 100\")"
   ]
  },
  {
   "cell_type": "code",
   "execution_count": 9,
   "metadata": {},
   "outputs": [
    {
     "name": "stdout",
     "output_type": "stream",
     "text": [
      "price is less than 100\n"
     ]
    }
   ],
   "source": [
    "price = 50\n",
    "\n",
    "if price >= 100:\n",
    "    print(\"price is greater than 100\")\n",
    "else:\n",
    "    print(\"price is less than 100\")"
   ]
  },
  {
   "cell_type": "code",
   "execution_count": 10,
   "metadata": {},
   "outputs": [
    {
     "name": "stdout",
     "output_type": "stream",
     "text": [
      "price is 100\n"
     ]
    }
   ],
   "source": [
    "price = 100\n",
    "\n",
    "if price > 100:\n",
    "    print(\"price is greater than 100\")\n",
    "elif price == 100:\n",
    "    print(\"price is 100\")\n",
    "elif price < 100:\n",
    "    print(\"price is less than 100\")"
   ]
  },
  {
   "cell_type": "code",
   "execution_count": 11,
   "metadata": {},
   "outputs": [
    {
     "ename": "SyntaxError",
     "evalue": "invalid syntax (<ipython-input-11-862c4d5655e7>, line 7)",
     "output_type": "error",
     "traceback": [
      "\u001b[1;36m  File \u001b[1;32m\"<ipython-input-11-862c4d5655e7>\"\u001b[1;36m, line \u001b[1;32m7\u001b[0m\n\u001b[1;33m    else price < 100:\u001b[0m\n\u001b[1;37m         ^\u001b[0m\n\u001b[1;31mSyntaxError\u001b[0m\u001b[1;31m:\u001b[0m invalid syntax\n"
     ]
    }
   ],
   "source": [
    "price = 50\n",
    "\n",
    "if price > 100:\n",
    "    print(\"price is greater than 100\")\n",
    "elif price == 100:\n",
    "    print(\"price is 100\")\n",
    "else price < 100:\n",
    "    print(\"price is less than 100\")"
   ]
  },
  {
   "cell_type": "code",
   "execution_count": 17,
   "metadata": {},
   "outputs": [
    {
     "ename": "IndentationError",
     "evalue": "unindent does not match any outer indentation level (<tokenize>, line 5)",
     "output_type": "error",
     "traceback": [
      "\u001b[1;36m  File \u001b[1;32m\"<tokenize>\"\u001b[1;36m, line \u001b[1;32m5\u001b[0m\n\u001b[1;33m    elif price = 100:\u001b[0m\n\u001b[1;37m    ^\u001b[0m\n\u001b[1;31mIndentationError\u001b[0m\u001b[1;31m:\u001b[0m unindent does not match any outer indentation level\n"
     ]
    }
   ],
   "source": [
    "price = 50\n",
    "\n",
    "if price > 100:\n",
    "    print(\"price is greater than 100\")\n",
    " elif price = 100:\n",
    "    print(\"price is 100\")\n",
    "  else price < 100:\n",
    "    print(\"price is less than 100\")"
   ]
  },
  {
   "cell_type": "code",
   "execution_count": 15,
   "metadata": {},
   "outputs": [
    {
     "name": "stdout",
     "output_type": "stream",
     "text": [
      "Amount is between 200 and 500\n"
     ]
    }
   ],
   "source": [
    "price = 50\n",
    "quantity = 5\n",
    "amount = price*quantity\n",
    "\n",
    "if amount > 100:\n",
    "    if amount > 500:\n",
    "        print(\"Amount is greater than 500\")\n",
    "    else:\n",
    "        if amount < 500 and amount > 400:\n",
    "            print(\"Amount is\")\n",
    "        elif amount < 500 and amount > 300:\n",
    "            print(\"Amount is between 300 and 500\")\n",
    "        else:\n",
    "            print(\"Amount is between 200 and 500\")\n",
    "elif amount == 100:\n",
    "    print(\"Amount is 100\")\n",
    "else:\n",
    "    print(\"Amount is less than 100\")"
   ]
  },
  {
   "cell_type": "code",
   "execution_count": null,
   "metadata": {},
   "outputs": [],
   "source": []
  }
 ],
 "metadata": {
  "kernelspec": {
   "display_name": "Python 3",
   "language": "python",
   "name": "python3"
  },
  "language_info": {
   "codemirror_mode": {
    "name": "ipython",
    "version": 3
   },
   "file_extension": ".py",
   "mimetype": "text/x-python",
   "name": "python",
   "nbconvert_exporter": "python",
   "pygments_lexer": "ipython3",
   "version": "3.8.5"
  }
 },
 "nbformat": 4,
 "nbformat_minor": 4
}
